{
 "cells": [
  {
   "cell_type": "code",
   "execution_count": 2,
   "metadata": {},
   "outputs": [
    {
     "data": {
      "image/png": "[encoded data removed]",
      "text/plain": [
       "<Figure size 518.74x259.37 with 2 Axes>"
      ]
     },
     "metadata": {},
     "output_type": "display_data"
    }
   ],
   "source": [
    "%matplotlib inline\n",
    "\n",
    "import stylia\n",
    "import numpy as np\n",
    "\n",
    "# create a figure to be used in a slide\n",
    "fig, axs = stylia.create_figure(\n",
    "    nrows=1, ncols=2, area_proportion=1, aspect_ratio=(2, 1), support=\"paper\"\n",
    ")\n",
    "\n",
    "# define your plots with matplotlib\n",
    "def my_histogram(ax, x):\n",
    "    ax.hist(x)\n",
    "\n",
    "\n",
    "def my_scatterplot(ax, x, y):\n",
    "    ax.scatter(x, y)\n",
    "\n",
    "\n",
    "# get data\n",
    "x = np.random.normal(size=100)\n",
    "y = x**2\n",
    "\n",
    "# first plot\n",
    "ax = axs.next()\n",
    "my_histogram(ax, x)\n",
    "\n",
    "# work on the second plot\n",
    "ax = axs.next()\n",
    "my_scatterplot(ax, x, y)\n",
    "\n",
    "# save figure\n",
    "stylia.save_figure(\"my_first_figure.pdf\")"
   ]
  },
  {
   "cell_type": "code",
   "execution_count": 3,
   "metadata": {},
   "outputs": [
    {
     "ename": "NameError",
     "evalue": "name 'palettable' is not defined",
     "output_type": "error",
     "traceback": [
      "\u001b[0;31m---------------------------------------------------------------------------\u001b[0m",
      "\u001b[0;31mNameError\u001b[0m                                 Traceback (most recent call last)",
      "\u001b[0;32m/tmp/ipykernel_21232/3291410179.py\u001b[0m in \u001b[0;36m<module>\u001b[0;34m\u001b[0m\n\u001b[0;32m----> 1\u001b[0;31m \u001b[0mpalettable\u001b[0m\u001b[0;34m.\u001b[0m\u001b[0mcartocolors\u001b[0m\u001b[0;34m.\u001b[0m\u001b[0mqualitative\u001b[0m\u001b[0;34m.\u001b[0m\u001b[0mPrism_10\u001b[0m\u001b[0;34m.\u001b[0m\u001b[0mmpl_colors\u001b[0m\u001b[0;34m\u001b[0m\u001b[0;34m\u001b[0m\u001b[0m\n\u001b[0m",
      "\u001b[0;31mNameError\u001b[0m: name 'palettable' is not defined"
     ]
    }
   ],
   "source": [
    "import palettable\n",
    "\n",
    "palettable.cartocolors.qualitative.Prism_10.mpl_colors"
   ]
  },
  {
   "cell_type": "code",
   "execution_count": null,
   "metadata": {},
   "outputs": [],
   "source": []
  }
 ],
 "metadata": {
  "interpreter": {
   "hash": "e62a350b80264e1ca3b924955275699ca4440bcd0019dfc009a15e7ce1ef6cbe"
  },
  "kernelspec": {
   "display_name": "Python 3.7.11 ('stylia')",
   "language": "python",
   "name": "python3"
  },
  "language_info": {
   "codemirror_mode": {
    "name": "ipython",
    "version": 3
   },
   "file_extension": ".py",
   "mimetype": "text/x-python",
   "name": "python",
   "nbconvert_exporter": "python",
   "pygments_lexer": "ipython3",
   "version": "3.7.12"
  },
  "orig_nbformat": 4
 },
 "nbformat": 4,
 "nbformat_minor": 2
}
